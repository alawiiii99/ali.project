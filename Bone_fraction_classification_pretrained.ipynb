{
  "cells": [
    {
      "cell_type": "markdown",
      "metadata": {
        "id": "view-in-github",
        "colab_type": "text"
      },
      "source": [
        "<a href=\"https://colab.research.google.com/github/alawiiii99/ali.project/blob/main/Bone_fraction_classification_pretrained.ipynb\" target=\"_parent\"><img src=\"https://colab.research.google.com/assets/colab-badge.svg\" alt=\"Open In Colab\"/></a>"
      ]
    },
    {
      "cell_type": "code",
      "execution_count": 1,
      "metadata": {
        "id": "XwS3JKt-U1CE",
        "colab": {
          "base_uri": "https://localhost:8080/"
        },
        "outputId": "33ba3faf-6ce3-4627-ccd0-bf27eae750d7"
      },
      "outputs": [
        {
          "output_type": "stream",
          "name": "stdout",
          "text": [
            "Mounted at /content/drive\n"
          ]
        }
      ],
      "source": [
        "#My dataset is available in googledrive; so I am accessing my drive from colab\n",
        "from google.colab import drive\n",
        "drive.mount('/content/drive', force_remount=True)\n",
        "#Once this is executed, you will see your drive appearing on the left hand side"
      ]
    },
    {
      "cell_type": "code",
      "execution_count": 2,
      "metadata": {
        "id": "SMPHESYVVnzp"
      },
      "outputs": [],
      "source": [
        "# Define paths to the dataset\n",
        "train_dir = '/content/drive/MyDrive/BoneFraction/train'  # Update with your actual path\n",
        "test_dir = '/content/drive/MyDrive/BoneFraction/test'    # Update with your actual path"
      ]
    },
    {
      "cell_type": "code",
      "execution_count": 3,
      "metadata": {
        "colab": {
          "base_uri": "https://localhost:8080/"
        },
        "id": "wwfZiLtU6Ruq",
        "outputId": "dc4d0627-d696-4bf3-eab0-b35bd15bf89f"
      },
      "outputs": [
        {
          "output_type": "stream",
          "name": "stdout",
          "text": [
            "504\n",
            "715\n",
            "238\n",
            "262\n"
          ]
        }
      ],
      "source": [
        "import os\n",
        "print(len(os.listdir('/content/drive/MyDrive/BoneFraction/train/fractured')))\n",
        "print(len(os.listdir('/content/drive/MyDrive/BoneFraction/train/notfractured')))\n",
        "print(len(os.listdir('/content/drive/MyDrive/BoneFraction/test/fractured')))\n",
        "print(len(os.listdir('/content/drive/MyDrive/BoneFraction/test/notfractured')))"
      ]
    },
    {
      "cell_type": "code",
      "execution_count": 4,
      "metadata": {
        "colab": {
          "base_uri": "https://localhost:8080/"
        },
        "id": "kf8li3JNUJR1",
        "outputId": "6313b1d4-efed-4f74-dedc-9963b8db56a3"
      },
      "outputs": [
        {
          "output_type": "stream",
          "name": "stdout",
          "text": [
            "Found 976 images belonging to 2 classes.\n",
            "Found 243 images belonging to 2 classes.\n"
          ]
        }
      ],
      "source": [
        "import tensorflow as tf\n",
        "from tensorflow.keras.preprocessing.image import ImageDataGenerator\n",
        "\n",
        "# Create ImageDataGenerator for training set\n",
        "train_datagen = ImageDataGenerator(\n",
        "    rescale=1./255,\n",
        "    validation_split=0.2  # Split 20% of the images for validation\n",
        ")\n",
        "\n",
        "# Load and prepare training data\n",
        "train_data = train_datagen.flow_from_directory(\n",
        "    train_dir,\n",
        "    target_size=(256,256),\n",
        "    batch_size=32,\n",
        "    class_mode='binary',  # 'binary' for binary classification (cats vs. dogs)\n",
        "    subset='training'  # Specify 'training' for the training set\n",
        ")\n",
        "\n",
        "# Create ImageDataGenerator for validation set\n",
        "validation_datagen = ImageDataGenerator(\n",
        "    rescale=1./255,\n",
        "    validation_split=0.2  # Note: Using the same validation split as in the training set\n",
        ")\n",
        "\n",
        "# Load and prepare validation data\n",
        "validation_data = validation_datagen.flow_from_directory(\n",
        "    train_dir,\n",
        "    target_size=(256,256),\n",
        "    batch_size=32,\n",
        "    class_mode='binary',\n",
        "    subset='validation'  # Specify 'validation' for the validation set\n",
        ")"
      ]
    },
    {
      "cell_type": "code",
      "source": [
        "from tensorflow import keras\n",
        "from keras import Sequential\n",
        "from keras.layers import Dense,Conv2D,MaxPooling2D,Flatten\n",
        "\n",
        "resnet_model = Sequential()    #ResNet50 is a pre-trained model\n",
        "pretrained_model = tf.keras.applications.ResNet50(include_top = False, #because i have my own image of a diff dimension\n",
        "                                                input_shape = (256,256,3),\n",
        "                                                pooling = 'max', classes = 2,\n",
        "                                                weights = 'imagenet')\n",
        "for layer in pretrained_model.layers:\n",
        "    layer.trainable = False  #all layers in the Resnet50 is not trainable; keep those weights; I am going to add my own i/p and other layers\n",
        "\n",
        "resnet_model.add(pretrained_model)\n",
        "resnet_model.add(Flatten())\n",
        "resnet_model.add(Dense(512, activation = 'relu'))\n",
        "resnet_model.add(Dense(1, activation = 'sigmoid'))"
      ],
      "metadata": {
        "id": "ja7Bv3UkSlKz",
        "colab": {
          "base_uri": "https://localhost:8080/"
        },
        "outputId": "023ea78d-05b3-479c-992c-954ebba640e8"
      },
      "execution_count": 5,
      "outputs": [
        {
          "output_type": "stream",
          "name": "stdout",
          "text": [
            "Downloading data from https://storage.googleapis.com/tensorflow/keras-applications/resnet/resnet50_weights_tf_dim_ordering_tf_kernels_notop.h5\n",
            "94765736/94765736 [==============================] - 1s 0us/step\n"
          ]
        }
      ]
    },
    {
      "cell_type": "code",
      "source": [
        "resnet_model.summary()"
      ],
      "metadata": {
        "colab": {
          "base_uri": "https://localhost:8080/"
        },
        "id": "dDZwlEw9VSVh",
        "outputId": "3096f17a-9028-45d6-dcbf-988b8470f2e4"
      },
      "execution_count": 6,
      "outputs": [
        {
          "output_type": "stream",
          "name": "stdout",
          "text": [
            "Model: \"sequential\"\n",
            "_________________________________________________________________\n",
            " Layer (type)                Output Shape              Param #   \n",
            "=================================================================\n",
            " resnet50 (Functional)       (None, 2048)              23587712  \n",
            "                                                                 \n",
            " flatten (Flatten)           (None, 2048)              0         \n",
            "                                                                 \n",
            " dense (Dense)               (None, 512)               1049088   \n",
            "                                                                 \n",
            " dense_1 (Dense)             (None, 1)                 513       \n",
            "                                                                 \n",
            "=================================================================\n",
            "Total params: 24637313 (93.98 MB)\n",
            "Trainable params: 1049601 (4.00 MB)\n",
            "Non-trainable params: 23587712 (89.98 MB)\n",
            "_________________________________________________________________\n"
          ]
        }
      ]
    },
    {
      "cell_type": "code",
      "execution_count": 7,
      "metadata": {
        "id": "SeBjyn0iWXgY"
      },
      "outputs": [],
      "source": [
        "from keras.optimizers import Adam\n",
        "resnet_model.compile(optimizer=Adam(learning_rate=0.001),loss='binary_crossentropy',metrics=['accuracy']) #binary_crossentropy - binary classification"
      ]
    },
    {
      "cell_type": "code",
      "execution_count": 8,
      "metadata": {
        "colab": {
          "base_uri": "https://localhost:8080/"
        },
        "id": "lGbY2VpIWbTt",
        "outputId": "c5967600-cf9e-4a6c-9940-f2c578f5a7e0"
      },
      "outputs": [
        {
          "output_type": "stream",
          "name": "stdout",
          "text": [
            "Epoch 1/3\n",
            "31/31 [==============================] - 361s 11s/step - loss: 0.9693 - accuracy: 0.6506 - val_loss: 0.3093 - val_accuracy: 0.9053\n",
            "Epoch 2/3\n",
            "31/31 [==============================] - 305s 10s/step - loss: 0.6335 - accuracy: 0.7100 - val_loss: 0.4111 - val_accuracy: 0.7366\n",
            "Epoch 3/3\n",
            "31/31 [==============================] - 304s 10s/step - loss: 0.3260 - accuracy: 0.8525 - val_loss: 0.2380 - val_accuracy: 0.9877\n"
          ]
        }
      ],
      "source": [
        "history = resnet_model.fit(train_data, epochs=3, validation_data=validation_data)"
      ]
    },
    {
      "cell_type": "code",
      "execution_count": 9,
      "metadata": {
        "id": "g21dMlSOWKas",
        "colab": {
          "base_uri": "https://localhost:8080/",
          "height": 431
        },
        "outputId": "24dde212-7479-4d32-bb42-ff23a63db3ca"
      },
      "outputs": [
        {
          "output_type": "display_data",
          "data": {
            "text/plain": [
              "<Figure size 640x480 with 1 Axes>"
            ],
            "image/png": "[encoded data removed]"
          },
          "metadata": {}
        }
      ],
      "source": [
        "import matplotlib.pyplot as plt\n",
        "\n",
        "plt.plot(history.history['accuracy'],color='red',label='train')\n",
        "plt.plot(history.history['val_accuracy'],color='blue',label='validation')\n",
        "plt.legend()\n",
        "plt.show()"
      ]
    },
    {
      "cell_type": "code",
      "execution_count": 10,
      "metadata": {
        "id": "FYZ0VJp4esXl",
        "colab": {
          "base_uri": "https://localhost:8080/",
          "height": 433
        },
        "outputId": "96d30673-f4f6-4d27-9d32-6ee0b5210691"
      },
      "outputs": [
        {
          "output_type": "display_data",
          "data": {
            "text/plain": [
              "<Figure size 640x480 with 1 Axes>"
            ],
            "image/png": "[encoded data removed]"
          },
          "metadata": {}
        }
      ],
      "source": [
        "plt.plot(history.history['loss'],color='red',label='train')\n",
        "plt.plot(history.history['val_loss'],color='blue',label='validation')\n",
        "plt.legend()\n",
        "plt.show()"
      ]
    },
    {
      "cell_type": "code",
      "execution_count": 11,
      "metadata": {
        "id": "tQj_RyrZWBEt",
        "colab": {
          "base_uri": "https://localhost:8080/"
        },
        "outputId": "b9f5c79f-f90b-4629-fced-4743042b42dd"
      },
      "outputs": [
        {
          "output_type": "stream",
          "name": "stdout",
          "text": [
            "Found 500 images belonging to 2 classes.\n"
          ]
        }
      ],
      "source": [
        "test_datagen = ImageDataGenerator(rescale=1./255)\n",
        "test_data = test_datagen.flow_from_directory(\n",
        "    test_dir,\n",
        "    target_size=(256,256),\n",
        "    batch_size=32,\n",
        "    class_mode='binary'\n",
        ")"
      ]
    },
    {
      "cell_type": "code",
      "execution_count": 12,
      "metadata": {
        "id": "glicW8_5vTqd",
        "colab": {
          "base_uri": "https://localhost:8080/"
        },
        "outputId": "880ac4a6-b5e1-4f98-a1ef-b37e555bf408"
      },
      "outputs": [
        {
          "output_type": "stream",
          "name": "stdout",
          "text": [
            "16/16 [==============================] - 130s 8s/step\n",
            "[[1.63072180e-02]\n",
            " [6.98068559e-01]\n",
            " [7.60993481e-01]\n",
            " [1.37123749e-01]\n",
            " [1.53399393e-01]\n",
            " [1.77677765e-01]\n",
            " [7.99637973e-01]\n",
            " [6.07017219e-01]\n",
            " [4.59266305e-02]\n",
            " [7.21757650e-01]\n",
            " [1.77677765e-01]\n",
            " [2.43047535e-01]\n",
            " [5.65845251e-01]\n",
            " [1.62417591e-01]\n",
            " [6.51797295e-01]\n",
            " [6.63652778e-01]\n",
            " [1.33032445e-03]\n",
            " [2.05587983e-01]\n",
            " [1.93873653e-04]\n",
            " [6.55633032e-01]\n",
            " [7.54097760e-01]\n",
            " [5.24602160e-02]\n",
            " [3.53309989e-01]\n",
            " [4.67367619e-01]\n",
            " [7.72245347e-01]\n",
            " [2.99665123e-01]\n",
            " [7.07028985e-01]\n",
            " [6.52934253e-01]\n",
            " [7.50343949e-02]\n",
            " [1.29396498e-01]\n",
            " [4.79398400e-01]\n",
            " [6.40369717e-06]\n",
            " [5.25467098e-01]\n",
            " [2.02943608e-01]\n",
            " [7.28192210e-01]\n",
            " [2.15267688e-01]\n",
            " [7.10276008e-01]\n",
            " [6.42463326e-01]\n",
            " [1.03962071e-01]\n",
            " [7.80088723e-01]\n",
            " [1.58676118e-01]\n",
            " [1.29396498e-01]\n",
            " [1.78082439e-03]\n",
            " [7.85537601e-01]\n",
            " [1.71674818e-01]\n",
            " [7.41853893e-01]\n",
            " [7.39678085e-01]\n",
            " [7.94445634e-01]\n",
            " [4.39643174e-01]\n",
            " [7.29042411e-01]\n",
            " [5.53795695e-02]\n",
            " [7.60825276e-01]\n",
            " [7.03483701e-01]\n",
            " [1.52985200e-01]\n",
            " [7.76253700e-01]\n",
            " [6.71331227e-01]\n",
            " [1.77677765e-01]\n",
            " [1.01880163e-01]\n",
            " [5.55438817e-01]\n",
            " [6.62278593e-01]\n",
            " [2.91018188e-01]\n",
            " [8.34088385e-01]\n",
            " [6.50968075e-01]\n",
            " [1.04624346e-01]\n",
            " [5.45472264e-01]\n",
            " [6.90133870e-01]\n",
            " [3.90904490e-03]\n",
            " [7.13575363e-01]\n",
            " [3.53309989e-01]\n",
            " [3.83784473e-01]\n",
            " [2.22504154e-01]\n",
            " [7.02570736e-01]\n",
            " [2.43712798e-01]\n",
            " [6.48369342e-02]\n",
            " [5.69861293e-01]\n",
            " [9.70237628e-02]\n",
            " [5.95404685e-01]\n",
            " [6.67426050e-01]\n",
            " [6.60688996e-01]\n",
            " [6.00873649e-01]\n",
            " [7.50429113e-04]\n",
            " [3.93114209e-01]\n",
            " [6.89547956e-01]\n",
            " [2.70233810e-01]\n",
            " [1.80815230e-04]\n",
            " [6.07806563e-01]\n",
            " [1.01842053e-01]\n",
            " [6.13723874e-01]\n",
            " [1.01082087e-01]\n",
            " [6.12122536e-01]\n",
            " [7.04112947e-01]\n",
            " [2.03573063e-01]\n",
            " [2.65462965e-01]\n",
            " [3.62825231e-05]\n",
            " [6.02613240e-02]\n",
            " [2.81076431e-01]\n",
            " [2.43047535e-01]\n",
            " [5.89951158e-01]\n",
            " [9.78976339e-02]\n",
            " [2.66824454e-01]\n",
            " [2.72716768e-02]\n",
            " [1.00281015e-01]\n",
            " [5.62129617e-01]\n",
            " [6.43304130e-03]\n",
            " [6.17426932e-01]\n",
            " [2.97495425e-01]\n",
            " [2.44535193e-01]\n",
            " [6.05414271e-01]\n",
            " [4.90730762e-01]\n",
            " [2.03044593e-01]\n",
            " [7.96235323e-01]\n",
            " [7.42657661e-01]\n",
            " [3.40872109e-01]\n",
            " [4.09572393e-01]\n",
            " [5.60145963e-06]\n",
            " [7.74852157e-01]\n",
            " [2.12825830e-06]\n",
            " [7.87665904e-01]\n",
            " [8.67068861e-03]\n",
            " [6.50130153e-01]\n",
            " [3.68185908e-01]\n",
            " [7.31575906e-01]\n",
            " [1.32733554e-01]\n",
            " [6.94842339e-01]\n",
            " [1.94170043e-01]\n",
            " [3.71310532e-01]\n",
            " [6.15980446e-01]\n",
            " [1.81506231e-01]\n",
            " [3.18149507e-01]\n",
            " [4.18641359e-01]\n",
            " [3.25689495e-01]\n",
            " [6.17426932e-01]\n",
            " [6.17045105e-01]\n",
            " [7.07169116e-01]\n",
            " [1.17430672e-01]\n",
            " [3.56630117e-01]\n",
            " [2.01761201e-01]\n",
            " [7.49862671e-01]\n",
            " [2.36681774e-01]\n",
            " [5.54179728e-01]\n",
            " [7.85848141e-01]\n",
            " [8.14325213e-01]\n",
            " [1.08685605e-02]\n",
            " [2.06049562e-01]\n",
            " [4.72025126e-01]\n",
            " [2.70935774e-01]\n",
            " [1.78065505e-02]\n",
            " [7.58768797e-01]\n",
            " [6.77198350e-01]\n",
            " [3.50077778e-01]\n",
            " [4.51114386e-01]\n",
            " [6.00998700e-01]\n",
            " [2.90181339e-01]\n",
            " [1.96476225e-02]\n",
            " [1.34606883e-01]\n",
            " [3.16752017e-01]\n",
            " [7.13226259e-01]\n",
            " [2.33351827e-01]\n",
            " [5.97412646e-01]\n",
            " [9.78978649e-02]\n",
            " [5.06314170e-03]\n",
            " [6.19192183e-01]\n",
            " [3.97958159e-02]\n",
            " [3.29271317e-01]\n",
            " [9.78976339e-02]\n",
            " [3.05056096e-06]\n",
            " [6.08928800e-01]\n",
            " [9.78976339e-02]\n",
            " [1.64239258e-01]\n",
            " [6.38225734e-01]\n",
            " [5.42393804e-01]\n",
            " [1.15865797e-01]\n",
            " [2.22254172e-03]\n",
            " [7.55504489e-01]\n",
            " [5.89347780e-01]\n",
            " [4.96827245e-01]\n",
            " [2.16238841e-01]\n",
            " [7.33924747e-01]\n",
            " [6.08361363e-01]\n",
            " [7.54989743e-01]\n",
            " [8.17270041e-01]\n",
            " [7.69060105e-02]\n",
            " [7.09544957e-01]\n",
            " [2.82177597e-01]\n",
            " [1.08401058e-02]\n",
            " [3.20983440e-01]\n",
            " [4.08492953e-01]\n",
            " [2.47636929e-01]\n",
            " [9.44762770e-03]\n",
            " [6.10951781e-01]\n",
            " [1.40952459e-03]\n",
            " [5.08226633e-01]\n",
            " [1.54550731e-01]\n",
            " [7.31776536e-01]\n",
            " [7.09544957e-01]\n",
            " [5.24602160e-02]\n",
            " [7.90730059e-01]\n",
            " [6.62013769e-01]\n",
            " [6.79000437e-01]\n",
            " [3.12242061e-01]\n",
            " [2.11764917e-01]\n",
            " [5.87042153e-01]\n",
            " [6.94986880e-01]\n",
            " [7.10283220e-01]\n",
            " [5.33606648e-01]\n",
            " [7.31580377e-01]\n",
            " [6.23929203e-01]\n",
            " [7.65078664e-02]\n",
            " [1.90976903e-01]\n",
            " [3.26714694e-01]\n",
            " [2.88824975e-01]\n",
            " [2.10121036e-01]\n",
            " [1.44459009e-01]\n",
            " [6.31530702e-01]\n",
            " [1.66995019e-01]\n",
            " [4.19427380e-02]\n",
            " [7.29789913e-01]\n",
            " [1.46920938e-04]\n",
            " [1.74259052e-01]\n",
            " [8.11656937e-05]\n",
            " [3.40872109e-01]\n",
            " [1.04843028e-01]\n",
            " [5.50705314e-01]\n",
            " [5.49612403e-01]\n",
            " [6.55663311e-01]\n",
            " [3.89349282e-01]\n",
            " [2.43598238e-01]\n",
            " [6.07817709e-01]\n",
            " [1.80516019e-01]\n",
            " [1.77677765e-01]\n",
            " [6.17120862e-01]\n",
            " [8.15566778e-01]\n",
            " [5.90054154e-01]\n",
            " [6.17426932e-01]\n",
            " [8.31149444e-02]\n",
            " [3.91872693e-03]\n",
            " [5.22753417e-01]\n",
            " [5.00586212e-01]\n",
            " [6.89336658e-01]\n",
            " [1.90368116e-01]\n",
            " [6.50861412e-02]\n",
            " [3.88839066e-01]\n",
            " [1.78697914e-01]\n",
            " [9.47408378e-02]\n",
            " [7.98585653e-01]\n",
            " [7.85774144e-04]\n",
            " [3.07497263e-01]\n",
            " [3.40872109e-01]\n",
            " [5.30524731e-01]\n",
            " [3.03565949e-01]\n",
            " [4.94408309e-01]\n",
            " [1.05436035e-01]\n",
            " [4.72084731e-01]\n",
            " [8.03164780e-01]\n",
            " [5.98459959e-01]\n",
            " [6.60446733e-02]\n",
            " [2.85509884e-01]\n",
            " [2.33895928e-01]\n",
            " [7.82705128e-01]\n",
            " [1.88195705e-02]\n",
            " [2.12629456e-02]\n",
            " [1.29078537e-01]\n",
            " [1.62417591e-01]\n",
            " [7.11431026e-01]\n",
            " [3.66765022e-01]\n",
            " [4.72915143e-01]\n",
            " [4.68413392e-03]\n",
            " [5.41250587e-01]\n",
            " [2.56992265e-04]\n",
            " [5.30524731e-01]\n",
            " [7.54353583e-01]\n",
            " [6.55022323e-01]\n",
            " [3.53309989e-01]\n",
            " [3.10008794e-01]\n",
            " [2.98793554e-01]\n",
            " [5.24602160e-02]\n",
            " [3.12154055e-01]\n",
            " [7.40465164e-01]\n",
            " [7.42310941e-01]\n",
            " [7.39628158e-05]\n",
            " [4.29876819e-02]\n",
            " [7.59278834e-01]\n",
            " [5.86789548e-01]\n",
            " [2.15654016e-01]\n",
            " [5.04918071e-03]\n",
            " [3.15913320e-01]\n",
            " [8.48191753e-02]\n",
            " [8.04638445e-01]\n",
            " [4.46199536e-01]\n",
            " [4.00307834e-01]\n",
            " [6.97475731e-01]\n",
            " [6.84909523e-01]\n",
            " [6.05606377e-01]\n",
            " [5.36871627e-02]\n",
            " [8.24190021e-01]\n",
            " [6.60718322e-01]\n",
            " [5.78935564e-01]\n",
            " [4.61130351e-01]\n",
            " [2.57629693e-01]\n",
            " [6.64834261e-01]\n",
            " [7.67330766e-01]\n",
            " [4.91645813e-01]\n",
            " [5.77350140e-01]\n",
            " [9.78976339e-02]\n",
            " [9.78976339e-02]\n",
            " [3.80409002e-01]\n",
            " [8.08896482e-01]\n",
            " [7.09544957e-01]\n",
            " [2.38507733e-01]\n",
            " [7.62876570e-01]\n",
            " [7.80451059e-01]\n",
            " [7.45774508e-01]\n",
            " [1.62004471e-05]\n",
            " [3.70856700e-03]\n",
            " [5.97789437e-02]\n",
            " [1.76682491e-02]\n",
            " [4.02365737e-02]\n",
            " [2.50397861e-01]\n",
            " [5.40706933e-01]\n",
            " [7.39092290e-01]\n",
            " [8.00136387e-01]\n",
            " [6.31457090e-01]\n",
            " [2.02443786e-02]\n",
            " [3.53309989e-01]\n",
            " [2.46812209e-01]\n",
            " [3.80309254e-01]\n",
            " [2.99177482e-03]\n",
            " [4.11276240e-03]\n",
            " [7.79667079e-01]\n",
            " [2.05525815e-01]\n",
            " [5.94277442e-01]\n",
            " [2.32346818e-01]\n",
            " [4.63822812e-01]\n",
            " [7.33967185e-01]\n",
            " [1.00434780e-01]\n",
            " [1.50054693e-02]\n",
            " [6.70929730e-01]\n",
            " [7.58768797e-01]\n",
            " [4.98840600e-01]\n",
            " [7.82655656e-01]\n",
            " [3.74216199e-01]\n",
            " [1.23804307e-03]\n",
            " [7.01575100e-01]\n",
            " [6.70929730e-01]\n",
            " [1.37115553e-01]\n",
            " [3.40872109e-01]\n",
            " [5.24602160e-02]\n",
            " [1.00914650e-01]\n",
            " [1.21185358e-03]\n",
            " [7.90157318e-01]\n",
            " [6.28855646e-01]\n",
            " [3.30008492e-02]\n",
            " [5.00586212e-01]\n",
            " [2.00462148e-01]\n",
            " [5.45367301e-02]\n",
            " [1.36383846e-01]\n",
            " [5.97514391e-01]\n",
            " [6.61089659e-01]\n",
            " [6.81659877e-01]\n",
            " [7.90877223e-01]\n",
            " [7.46603191e-01]\n",
            " [1.27456501e-01]\n",
            " [6.57717586e-01]\n",
            " [7.16397762e-01]\n",
            " [5.24602160e-02]\n",
            " [5.94289362e-01]\n",
            " [2.45947078e-01]\n",
            " [7.31575906e-01]\n",
            " [5.43909986e-03]\n",
            " [7.53802121e-01]\n",
            " [7.62337148e-01]\n",
            " [7.33527958e-01]\n",
            " [8.63194346e-01]\n",
            " [3.30789059e-01]\n",
            " [1.60067510e-02]\n",
            " [6.48393296e-04]\n",
            " [7.28332460e-01]\n",
            " [1.64704368e-01]\n",
            " [1.01945736e-01]\n",
            " [7.31575906e-01]\n",
            " [1.33406669e-01]\n",
            " [7.04845116e-02]\n",
            " [6.35389030e-01]\n",
            " [7.09545135e-01]\n",
            " [6.87355220e-01]\n",
            " [4.26796019e-01]\n",
            " [3.44813764e-01]\n",
            " [2.55060475e-02]\n",
            " [2.42945611e-01]\n",
            " [6.17426932e-01]\n",
            " [7.59441257e-01]\n",
            " [7.91373134e-01]\n",
            " [7.31370926e-01]\n",
            " [1.39328679e-02]\n",
            " [2.85753042e-01]\n",
            " [7.85366476e-01]\n",
            " [5.00586212e-01]\n",
            " [3.07223294e-02]\n",
            " [1.20083541e-01]\n",
            " [2.42600939e-03]\n",
            " [7.91426122e-01]\n",
            " [6.92048728e-01]\n",
            " [1.04407035e-01]\n",
            " [4.25825447e-01]\n",
            " [6.18422627e-01]\n",
            " [8.28665257e-01]\n",
            " [7.82629669e-01]\n",
            " [2.02059820e-02]\n",
            " [1.66469008e-01]\n",
            " [1.17967211e-01]\n",
            " [5.97885609e-01]\n",
            " [2.80370790e-04]\n",
            " [6.50117874e-01]\n",
            " [8.22039902e-01]\n",
            " [5.28795540e-01]\n",
            " [1.85365856e-01]\n",
            " [3.07682395e-01]\n",
            " [5.52227557e-01]\n",
            " [5.03533304e-01]\n",
            " [2.47055702e-02]\n",
            " [7.31575906e-01]\n",
            " [2.83167828e-02]\n",
            " [5.77906668e-01]\n",
            " [3.97716045e-01]\n",
            " [7.62358844e-01]\n",
            " [8.57176423e-01]\n",
            " [2.11902231e-01]\n",
            " [2.53619481e-04]\n",
            " [1.49724595e-02]\n",
            " [5.24602160e-02]\n",
            " [1.24257635e-02]\n",
            " [6.32702529e-01]\n",
            " [7.78231561e-01]\n",
            " [7.67216384e-01]\n",
            " [5.87616563e-01]\n",
            " [4.06160861e-01]\n",
            " [6.81837440e-01]\n",
            " [8.08113694e-01]\n",
            " [2.63600469e-01]\n",
            " [3.92665774e-01]\n",
            " [6.42867386e-01]\n",
            " [5.71853280e-01]\n",
            " [1.04079396e-01]\n",
            " [5.49922109e-01]\n",
            " [4.32153255e-01]\n",
            " [1.38548285e-01]\n",
            " [8.78951967e-01]\n",
            " [2.20482707e-01]\n",
            " [4.36493419e-02]\n",
            " [1.83952916e-02]\n",
            " [3.85479540e-01]\n",
            " [6.70929730e-01]\n",
            " [5.53154387e-04]\n",
            " [6.21949077e-01]\n",
            " [5.76024473e-01]\n",
            " [7.17024624e-01]\n",
            " [4.67701048e-01]\n",
            " [6.70929730e-01]\n",
            " [8.64044964e-01]\n",
            " [3.13229710e-01]\n",
            " [2.38654822e-01]\n",
            " [7.39501953e-01]\n",
            " [5.50552368e-01]\n",
            " [1.99437544e-01]\n",
            " [9.78976339e-02]\n",
            " [1.85440164e-02]\n",
            " [3.03625435e-01]\n",
            " [4.63357180e-01]\n",
            " [3.12979589e-03]\n",
            " [4.97762905e-03]\n",
            " [2.03385460e-03]\n",
            " [5.10716140e-01]\n",
            " [7.63991296e-01]\n",
            " [5.04698157e-01]\n",
            " [2.71762609e-01]\n",
            " [7.37596187e-04]\n",
            " [6.55097187e-01]\n",
            " [1.61046356e-01]\n",
            " [9.30293836e-03]\n",
            " [3.18203837e-01]\n",
            " [7.24648461e-02]\n",
            " [4.93973792e-01]\n",
            " [1.26619399e-01]\n",
            " [1.29396498e-01]\n",
            " [4.85136211e-02]\n",
            " [1.45632550e-01]\n",
            " [9.31810867e-03]\n",
            " [5.68569422e-01]\n",
            " [7.43565023e-01]\n",
            " [2.47636929e-01]\n",
            " [1.00219056e-01]\n",
            " [3.90882045e-01]\n",
            " [7.51197815e-01]\n",
            " [6.02003783e-02]\n",
            " [6.45400763e-01]\n",
            " [5.04796922e-01]\n",
            " [7.17474937e-01]\n",
            " [7.46888101e-01]\n",
            " [1.18087865e-01]\n",
            " [1.77678272e-01]]\n"
          ]
        }
      ],
      "source": [
        "#predict the test data\n",
        "predictions = resnet_model.predict(test_data)\n",
        "print(predictions)"
      ]
    },
    {
      "cell_type": "code",
      "execution_count": 13,
      "metadata": {
        "id": "r7XjnjcNyMbv",
        "colab": {
          "base_uri": "https://localhost:8080/"
        },
        "outputId": "6e8edb18-6299-4131-81c6-2cd58ff0d86d"
      },
      "outputs": [
        {
          "output_type": "execute_result",
          "data": {
            "text/plain": [
              "500"
            ]
          },
          "metadata": {},
          "execution_count": 13
        }
      ],
      "source": [
        "len(predictions)"
      ]
    },
    {
      "cell_type": "code",
      "execution_count": 14,
      "metadata": {
        "id": "oqqBXpuhyd6x",
        "colab": {
          "base_uri": "https://localhost:8080/"
        },
        "outputId": "43b64567-331d-46ee-d8be-39a01c7f6325"
      },
      "outputs": [
        {
          "output_type": "stream",
          "name": "stdout",
          "text": [
            "Confusion Matrix:\n",
            "[[133 105]\n",
            " [149 113]]\n",
            "Classification Report:\n",
            "              precision    recall  f1-score   support\n",
            "\n",
            "           0       0.47      0.56      0.51       238\n",
            "           1       0.52      0.43      0.47       262\n",
            "\n",
            "    accuracy                           0.49       500\n",
            "   macro avg       0.49      0.50      0.49       500\n",
            "weighted avg       0.50      0.49      0.49       500\n",
            "\n"
          ]
        }
      ],
      "source": [
        "from sklearn.metrics import confusion_matrix, classification_report\n",
        "\n",
        "# Assuming you have ground truth labels (true_labels) and predicted labels (predictions)\n",
        "true_labels = test_data.classes\n",
        "predicted_labels = (predictions > 0.5).astype(int)  # Adjust the threshold as needed\n",
        "\n",
        "# Calculate confusion matrix\n",
        "cm = confusion_matrix(true_labels, predicted_labels)\n",
        "\n",
        "# Print confusion matrix\n",
        "print(\"Confusion Matrix:\")\n",
        "print(cm)\n",
        "\n",
        "# Print classification report\n",
        "print(\"Classification Report:\")\n",
        "print(classification_report(true_labels, predicted_labels))"
      ]
    }
  ],
  "metadata": {
    "accelerator": "GPU",
    "colab": {
      "provenance": [],
      "gpuType": "T4",
      "include_colab_link": true
    },
    "kernelspec": {
      "display_name": "Python 3",
      "name": "python3"
    },
    "language_info": {
      "name": "python"
    }
  },
  "nbformat": 4,
  "nbformat_minor": 0
}